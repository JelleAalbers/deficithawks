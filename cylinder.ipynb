{
 "cells": [
  {
   "cell_type": "markdown",
   "id": "ddaff43c-6e25-458d-81a4-4fe634e50ba7",
   "metadata": {},
   "source": [
    "# Figure 1: Example experiment"
   ]
  },
  {
   "cell_type": "code",
   "execution_count": 1,
   "id": "25e1b609-36da-4311-94c2-efa54d79a6a8",
   "metadata": {},
   "outputs": [],
   "source": [
    "import gzip\n",
    "import pickle\n",
    "\n",
    "import numpy as np\n",
    "import matplotlib.pyplot as plt\n",
    "\n",
    "import hypney.all as hp\n",
    "\n",
    "import common\n",
    "from common import powerlaw\n",
    "\n",
    "# Comment out the line below if you don't have a LaTeX installation\n",
    "plt.rcParams[\"text.usetex\"] =  True"
   ]
  },
  {
   "cell_type": "code",
   "execution_count": 2,
   "id": "43ff9df8-39e9-433b-8d1c-9dbfd8ebe98c",
   "metadata": {},
   "outputs": [],
   "source": [
    "# Example experiment\n",
    "similarity = 0.25\n",
    "mu_unknown = 20\n",
    "background = powerlaw(mu=mu_unknown, alpha=similarity)\n",
    "#background.plot_diff_rate()\n",
    "\n",
    "# Generate one fixed \"observed\" dataset, then restore\n",
    "# the random state\n",
    "seed = 42\n",
    "state = np.random.get_state()\n",
    "np.random.seed(seed)\n",
    "data = background.simulate()\n",
    "np.random.set_state(state)"
   ]
  },
  {
   "cell_type": "code",
   "execution_count": 3,
   "id": "38af4b29-b0d2-4b98-860b-f268800df651",
   "metadata": {},
   "outputs": [
    {
     "data": {
      "image/png": "[encoded data removed]",
      "text/plain": [
       "<Figure size 252x252 with 1 Axes>"
      ]
     },
     "metadata": {
      "needs_background": "light"
     },
     "output_type": "display_data"
    }
   ],
   "source": [
    "rs = np.linspace(0, 1, 1000)\n",
    "\n",
    "plt.figure(figsize=(3.5,3.5))\n",
    "\n",
    "plt.scatter(data, 0 * data, c='k', clip_on=False, s=10)\n",
    "plt.text(0.6, 4, \"Example dataset\", c='k')\n",
    "\n",
    "c = 'indigo'\n",
    "plt.fill_between(rs, 0, background.diff_rate(rs), \n",
    "                 color=c, alpha=0.3, linewidth=0)\n",
    "plt.text(0.725, 25, 'Unknown\\nBackground', c='indigo', ma='center')\n",
    "\n",
    "mu_sig = 15\n",
    "y_text = mu_sig + 2\n",
    "plt.axhline(mu_sig, linestyle='--', c='r')\n",
    "plt.text(0.1, y_text, 'Signal', c='r')\n",
    "\n",
    "arrow_x = 0.4\n",
    "sig_amp = 0.4\n",
    "plt.annotate(\"\", xy=(arrow_x, mu_sig * (1 - sig_amp)), \n",
    "             xytext=(arrow_x, mu_sig * (1 + sig_amp)),\n",
    "             arrowprops=dict(arrowstyle='<->', color='r'))\n",
    "plt.text(arrow_x + 0.03, y_text, \"$s$\", c='r', fontsize=14)\n",
    "\n",
    "plt.ylabel(\"Mean events / dx\")\n",
    "plt.ylim(0, 60)\n",
    "\n",
    "plt.xlabel(\"Reconstructed position, $x = (r / r_\\mathrm{max})^2$\")\n",
    "plt.xlim(0, 1)\n",
    "\n",
    "for fmt in ('png', 'pdf'):\n",
    "    plt.savefig(f'example_experiment.{fmt}', dpi=200, bbox_inches='tight')"
   ]
  },
  {
   "cell_type": "markdown",
   "id": "2d9e12b5-6abc-435c-9653-730657f6124a",
   "metadata": {},
   "source": [
    "### Deficit hawk limit"
   ]
  },
  {
   "cell_type": "code",
   "execution_count": 4,
   "id": "5a73d1dd-4cbc-4eb7-914d-031b3faaa2cc",
   "metadata": {},
   "outputs": [],
   "source": [
    "signal = hp.uniform().fix_except('rate')\n",
    "stat = hp.AllRegionSimpleHawk(\n",
    "    signal, \n",
    "    signal_only=True, \n",
    "    regions_type='left'\n",
    "    ).with_stored_dist('lr_oneside')\n",
    "ul = hp.UpperLimit(stat, anchors=hp.DEFAULT_RATE_GRID.tolist())"
   ]
  },
  {
   "cell_type": "code",
   "execution_count": 5,
   "id": "a6d08233-f754-40da-9e48-cd89eb37d2f4",
   "metadata": {},
   "outputs": [],
   "source": [
    "toy_limits = common.draw_limits(ul, source=background, n_limits=1000)"
   ]
  },
  {
   "cell_type": "code",
   "execution_count": 6,
   "id": "09ccdcff-bb9d-463f-aa12-0b56fa5330ea",
   "metadata": {},
   "outputs": [
    {
     "data": {
      "text/plain": [
       "6.231273130296723"
      ]
     },
     "execution_count": 6,
     "metadata": {},
     "output_type": "execute_result"
    }
   ],
   "source": [
    "sens_deficit_hawk = np.mean(toy_limits)\n",
    "sens_deficit_hawk"
   ]
  },
  {
   "cell_type": "markdown",
   "id": "49a22d7d-17cc-4b5e-a9fc-9bf4e7f3de61",
   "metadata": {},
   "source": [
    "### Optimum interval limit"
   ]
  },
  {
   "cell_type": "code",
   "execution_count": 7,
   "id": "f3af42dd-018d-476d-9f3e-f52c05b43ccc",
   "metadata": {},
   "outputs": [],
   "source": [
    "stat = hp.YellinCNHawk(\n",
    "    signal,\n",
    "    signal_only=True).with_stored_dist('yellin_cn_149max')\n",
    "# Optimum interval requires CN Monte Carlo table;\n",
    "# I only computed up to mu ~= 150. More than enough for this example.\n",
    "mu_clip = hp.DEFAULT_RATE_GRID\n",
    "mu_clip = mu_clip[(mu_clip > 0.1) & (mu_clip < 150)]\n",
    "ul = hp.UpperLimit(stat, anchors=mu_clip.tolist())"
   ]
  },
  {
   "cell_type": "code",
   "execution_count": 8,
   "id": "e11c6f78-5a5b-48fb-8cb5-95be54d2ea83",
   "metadata": {},
   "outputs": [],
   "source": [
    "toy_limits_oi = common.draw_limits(ul, source=background, n_limits=1000)"
   ]
  },
  {
   "cell_type": "code",
   "execution_count": 9,
   "id": "f6eade17-1325-4188-a0b6-b0a135a4998d",
   "metadata": {},
   "outputs": [
    {
     "data": {
      "text/plain": [
       "11.245771300839785"
      ]
     },
     "execution_count": 9,
     "metadata": {},
     "output_type": "execute_result"
    }
   ],
   "source": [
    "sens_oi = np.mean(toy_limits_oi)\n",
    "sens_oi"
   ]
  },
  {
   "cell_type": "code",
   "execution_count": 10,
   "id": "6af72ab5-3d0b-45dc-bccb-91ff28a908db",
   "metadata": {},
   "outputs": [],
   "source": [
    "left = np.linspace(1e-5, 1 - 1e-5, 10_000)\n",
    "\n",
    "f_sig_in = left\n",
    "f_unknown_in = powerlaw(alpha=similarity).cdf(left)\n",
    "mu_unknown_in_region = mu_unknown * f_unknown_in\n",
    "\n",
    "sens_mu = dict()\n",
    "for poisson_kind in 'regular', 'augmented':\n",
    "    \n",
    "    with gzip.open('poisson_sens.pkl.gz', mode='rb') as f:\n",
    "        poisson_sens = pickle.load(f)[poisson_kind]\n",
    "\n",
    "    sens_n = poisson_sens['itp'](mu_unknown_in_region)\n",
    "    sens_mu[poisson_kind] = sens_n / f_sig_in"
   ]
  },
  {
   "cell_type": "code",
   "execution_count": 12,
   "id": "d9acefbe-bc21-4e3a-86a1-1a5c12c23302",
   "metadata": {},
   "outputs": [
    {
     "data": {
      "image/png": "[encoded data removed]",
      "text/plain": [
       "<Figure size 252x252 with 1 Axes>"
      ]
     },
     "metadata": {
      "needs_background": "light"
     },
     "output_type": "display_data"
    }
   ],
   "source": [
    "# Simple figure for talks\n",
    "simple = False\n",
    "\n",
    "plt.figure(figsize=(3.5, 3.5))\n",
    "\n",
    "if not simple:\n",
    "    c = 'sandybrown'\n",
    "    plt.axhline(sens_oi, c=c, linewidth=1)\n",
    "    plt.text(0.73, sens_oi / 1.05, s='Yellin CMax', \n",
    "             c=c, va='top')\n",
    "\n",
    "    c = plt.cm.Greys(0.5)\n",
    "    plt.plot(left, sens_mu['augmented'], c=c, linestyle='--', linewidth=1)\n",
    "    plt.text(0.77, 13, \"+ random \\n number\", ha='left', c=c, ma='center')\n",
    "\n",
    "c = 'b'\n",
    "plt.axhline(sens_deficit_hawk, c=c, linewidth=3)\n",
    "plt.text(0.75, sens_deficit_hawk * 1.05, s='Deficit hawk', \n",
    "         c=c, va='bottom', ha='center', fontsize=12)\n",
    "plt.text(0.75, sens_deficit_hawk / 1.08, s='(all central cylinders)',\n",
    "         c=c, va='top', ha='center', fontsize=10)\n",
    "\n",
    "\n",
    "plt.plot(left, sens_mu['regular'], c='k', linewidth=3)\n",
    "plt.text(0.3, 17, \"Count events\\nin fiducial volume\",\n",
    "         ha='left', ma='center', fontsize=12)\n",
    "\n",
    "\n",
    "plt.ylim(0, 20)\n",
    "plt.yticks([0, 5, 10, 15, 20])\n",
    "plt.xlim(0, 1)\n",
    "plt.ylabel(\"Mean upper limit [expected signal events]\")\n",
    "plt.xlabel(r\"Fiducial cut, $(r_f/r_\\mathrm{max})^2$\")\n",
    "\n",
    "for fmt in ('png', 'pdf'):\n",
    "    plt.savefig(f'fiducial_vs_hawk{\"simple\" if simple else \"\"}.{fmt}', dpi=200, bbox_inches='tight')"
   ]
  },
  {
   "cell_type": "code",
   "execution_count": null,
   "id": "0176d451-05d7-4306-b6e6-4b9b3884cbfb",
   "metadata": {},
   "outputs": [],
   "source": []
  }
 ],
 "metadata": {
  "kernelspec": {
   "display_name": "Python 3 (ipykernel)",
   "language": "python",
   "name": "python3"
  },
  "language_info": {
   "codemirror_mode": {
    "name": "ipython",
    "version": 3
   },
   "file_extension": ".py",
   "mimetype": "text/x-python",
   "name": "python",
   "nbconvert_exporter": "python",
   "pygments_lexer": "ipython3",
   "version": "3.9.13"
  }
 },
 "nbformat": 4,
 "nbformat_minor": 5
}
