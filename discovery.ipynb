{
 "cells": [
  {
   "cell_type": "markdown",
   "id": "df09bbd3-c4bb-432d-bd51-b59928c8184a",
   "metadata": {},
   "source": [
    "## Figure 9 -- discovery study"
   ]
  },
  {
   "cell_type": "code",
   "execution_count": 1,
   "id": "500c5747-8c4a-4658-8de5-5316afa6a1f3",
   "metadata": {},
   "outputs": [],
   "source": [
    "from concurrent.futures import ProcessPoolExecutor\n",
    "from pathlib import Path\n",
    "import pickle\n",
    "\n",
    "import hypney.all as hp\n",
    "import numpy as np\n",
    "import matplotlib\n",
    "import matplotlib.pyplot as plt\n",
    "from scipy import stats\n",
    "from tqdm import tqdm\n",
    "\n",
    "import common\n",
    "\n",
    "# Comment out the line below if you don't have a LaTeX installation\n",
    "plt.rcParams[\"text.usetex\"] =  True"
   ]
  },
  {
   "cell_type": "markdown",
   "id": "f7891321-5831-46c6-9d3d-ee91c953c456",
   "metadata": {},
   "source": [
    "## Feldman-cousins intervals"
   ]
  },
  {
   "cell_type": "markdown",
   "id": "080350d6-655f-46e1-ae86-f4e43b767444",
   "metadata": {},
   "source": [
    "Just another implementation of [ https://arxiv.org/abs/physics/9711021 ]"
   ]
  },
  {
   "cell_type": "code",
   "execution_count": 2,
   "id": "998b0180-d7fd-418b-b248-f25c91034a5e",
   "metadata": {},
   "outputs": [],
   "source": [
    "# Grid of hypotheses: expected signal events\n",
    "mu = np.concatenate([np.array([0]), np.geomspace(0.1, 200, 10_000)])\n",
    "confidence_level = 0.9\n",
    "\n",
    "def fc_limits(mu_bg=0, confidence_level=confidence_level, mu=mu):\n",
    "    # Total expected events\n",
    "    mu_tot = mu + mu_bg\n",
    "    # best-fit total mu\n",
    "    n = np.arange(stats.poisson(mu.max()).ppf(0.999)).astype(int)\n",
    "    mu_tot_best = (n - mu_bg).clip(0, None) + mu_bg\n",
    "    # Make (mu, n) arrays\n",
    "    o = None\n",
    "    # Probability of observation (given hypothesis)\n",
    "    p = stats.poisson(mu_tot[:,o]).pmf(n[o,:])\n",
    "    # -2 likelihood ratio of observation (given hypothesis)\n",
    "    t = -2 * ( \n",
    "        # Log P(test)\n",
    "        stats.poisson(mu_tot[:,o]).logpmf(n[o,:]) \n",
    "        # Log P(best fit)\n",
    "        - stats.poisson(mu_tot_best[o,:]).logpmf(n[o,:]) )\n",
    "\n",
    "    # Build Neyman band for Feldman-Cousins\n",
    "    excluded = t != t\n",
    "    for i in range(len(mu)):\n",
    "        # Arrays to order ns by *descending* t (likely observations LAST)\n",
    "        # and to undo that order\n",
    "        order = np.argsort(-t[i])\n",
    "        undo_order = np.argsort(order)\n",
    "        # Exclude observations with highest ts and probability summing to <0.1\n",
    "        excluded[i] = (np.cumsum(p[i][order]) < (1 - confidence_level))[undo_order]\n",
    "    # Include mus in between included mus (ensure continuous intervals)\n",
    "    for j in range(len(n)):\n",
    "        excluded[:,j] = (\n",
    "            np.minimum.accumulate(excluded[:,j])\n",
    "            | np.minimum.accumulate(excluded[:,j][::-1])[::-1])\n",
    "    \n",
    "    # Convert band to limit lookup arrays for each observed n\n",
    "    # Upper limit: mu is excluded, but mu just below it (roll\n",
    "    # forward to align) is allowed. \n",
    "    # Argmax picks out the single true value; we already included mus\n",
    "    # between included mus.\n",
    "    upper = mu[np.argmax(excluded & np.roll(~excluded, 1, axis=0), axis=0)]\n",
    "    # Convert band to limit lookup arrays for each observed n\n",
    "    # Upper limit: mu is excluded, but mu just above it (roll\n",
    "    # back to align) is allowed. \n",
    "    # (Still need argmax: argmin would pick out the first False value.)\n",
    "    lower = mu[np.argmax(excluded & np.roll(~excluded, -1, axis=0), axis=0)]\n",
    "    \n",
    "    # Correct np.roll artifacts\n",
    "    upper[upper == mu[-1]] = 0   \n",
    "    lower[lower == mu[-1]] = 0\n",
    "    \n",
    "    # Coverage = probability truth is excluded\n",
    "    # (mu, n arrays inside, then sum over n)\n",
    "    # TODO: what about < vs <= here? For dense enough mu it shouldn't matter.\n",
    "    # Let's say we quote closed intervals on mu.\n",
    "    false_lower = np.sum(p * (lower[None,:] > mu[:,None]), axis=1)\n",
    "    false_upper = np.sum(p * (upper[None,:] < mu[:,None]), axis=1)\n",
    "    coverage = np.sum(\n",
    "        p * ((upper[None,:] >= mu[:,None])\n",
    "             & (lower[None,:] <= mu[:,None])),\n",
    "        axis=1)   \n",
    "    \n",
    "#     # Quantiles to compute for sensitivity \n",
    "#     quantiles = stats.norm.cdf([-2, -1, 0, 1, 2])\n",
    "        \n",
    "#     # First compute the +-1 sigma observations (for no signal).\n",
    "#     n_m2, n_m1, n_med, n_p1, n_p2 = [\n",
    "#         find_quantile(q, mu_bg)\n",
    "#         for q in quantiles]\n",
    "    \n",
    "#     # Convert to quantiles of upper and lower limits\n",
    "#     def get_index(n_q):\n",
    "#         return np.argmin(np.abs(n - n_q))\n",
    "#     u_m2, u_m1, u_med, u_p1, u_p2 = [\n",
    "#         upper[get_index(n_q)]\n",
    "#         for n_q in (n_m2, n_m1, n_med, n_p1, n_p2)]\n",
    "#     l_m2, l_m1, l_med, l_p1, l_p2 = [\n",
    "#         upper[get_index(n_q)]\n",
    "#         for n_q in (n_m2, n_m1, n_med, n_p1, n_p2)]\n",
    "    \n",
    "#     # Lowest n observed that gives a discovery \n",
    "#     # At this n, or higher, the lower limit is > 0\n",
    "#     n_discovery = n[np.where(lower > 0)[0].min()]\n",
    "\n",
    "#     # Discovery power for each mu\n",
    "#     # = fraction of trials that have a nonzero lower limit\n",
    "#     # Note sf doesn't include p of argument itself, unlike cdf\n",
    "#     disc_power = stats.poisson(mu_tot).sf(np.round(n_discovery) - 1)\n",
    "\n",
    "    return dict(\n",
    "        mu_bg=mu_bg,\n",
    "        n=n,\n",
    "        lower=lower,\n",
    "        upper=upper,\n",
    "        excluded=excluded,\n",
    "        \n",
    "        false_upper=false_upper,\n",
    "        false_lower=false_lower,\n",
    "        coverage=coverage,\n",
    "        \n",
    "        # Plus/minus 2-1-0 sigma quantiles of n, upper limit, and lower limit\n",
    "        # n_m2=n_m2, n_m1=n_m1, n_med=n_med, n_p1=n_p1, n_p2=n_p2,\n",
    "        # u_m2=u_m2, u_m1=u_m1, u_med=u_med, u_p1=u_p1, u_p2=u_p2,\n",
    "        # l_m2=u_m2, l_m1=u_m1, l_med=u_med, l_p1=u_p1, l_p2=u_p2,\n",
    "        # n_discovery=n_discovery,\n",
    "        # disc_power=disc_power\n",
    "    )\n",
    "\n",
    "def find_quantile(q, mu_bg):\n",
    "    \"\"\"Return the n at the background-only quantile q\"\"\"\n",
    "    return stats.poisson(mu_bg).ppf(q)"
   ]
  },
  {
   "cell_type": "markdown",
   "id": "74d856ae-f44c-4d88-be69-2cf3f069e89f",
   "metadata": {},
   "source": [
    "To check we didn't mess up: compare the plot below with figure 7 in Feldman&Cousins (p.26). \n",
    "\n",
    "There is one difference: the band here steps _in between_ possible values of n, rather than _at_ n values. That's OK, it just makes it unambiguous whether boundary values are included or not. Read off confidence intervals using the red dots at an observed n."
   ]
  },
  {
   "cell_type": "code",
   "execution_count": 3,
   "id": "45f6afb8-d3d3-47dc-9ff2-a1c0e7fd0d43",
   "metadata": {},
   "outputs": [
    {
     "data": {
      "text/plain": [
       "Text(0.5, 1.0, '3 expected background events')"
      ]
     },
     "execution_count": 3,
     "metadata": {},
     "output_type": "execute_result"
    },
    {
     "data": {
      "image/png": "[encoded data removed]",
      "text/plain": [
       "<Figure size 288x288 with 1 Axes>"
      ]
     },
     "metadata": {
      "needs_background": "light"
     },
     "output_type": "display_data"
    }
   ],
   "source": [
    "q = fc_limits(mu_bg=3)\n",
    "\n",
    "plt.figure(figsize=(4,4))\n",
    "plt.pcolormesh(q['n'], mu, q['excluded'], shading='nearest', cmap=plt.cm.Greys)\n",
    "\n",
    "plt.scatter(q['n'], q['upper'], c='r', marker='.')\n",
    "plt.scatter(q['n'], q['lower'], c='r', marker='.')\n",
    "\n",
    "plt.xticks(np.arange(16))\n",
    "plt.yticks(np.arange(16))\n",
    "plt.xlim(0, 15)\n",
    "plt.ylim(0, 15)\n",
    "plt.grid(c='b', alpha=0.5)\n",
    "plt.ylabel(\"Expected events\")\n",
    "plt.xlabel(\"Observed events\")\n",
    "plt.title(f\"{q['mu_bg']} expected background events\")"
   ]
  },
  {
   "cell_type": "markdown",
   "id": "491b31a5-78d1-4fe7-855d-2c416c0095d7",
   "metadata": {},
   "source": [
    "And compare this with table IV on p. 37:"
   ]
  },
  {
   "cell_type": "code",
   "execution_count": 4,
   "id": "664d7637-9164-4555-95c2-7601a7ccf37a",
   "metadata": {},
   "outputs": [
    {
     "data": {
      "text/plain": [
       "(0.8942356711945959, 9.531591009140486)"
      ]
     },
     "execution_count": 4,
     "metadata": {},
     "output_type": "execute_result"
    }
   ],
   "source": [
    "q['lower'][7], q['upper'][7]"
   ]
  },
  {
   "cell_type": "markdown",
   "id": "60df2532-6715-436b-81d1-ab4d6eb07b23",
   "metadata": {},
   "source": [
    "Check probability of false upper and lower limits, which we need below. Since Feldman-Cousins intervals are never empty, their sum should equal the total false exclusion probability -- until we get to mus near the end of the considered posible range (mu>>100 here, just adjust linspace above to consider higher ones)."
   ]
  },
  {
   "cell_type": "code",
   "execution_count": 5,
   "id": "5f359aa7-1d59-4464-987e-a266d4f8e4ab",
   "metadata": {},
   "outputs": [
    {
     "data": {
      "text/plain": [
       "Text(0.5, 1.0, '3 expected background events')"
      ]
     },
     "execution_count": 5,
     "metadata": {},
     "output_type": "execute_result"
    },
    {
     "data": {
      "image/png": "[encoded data removed]",
      "text/plain": [
       "<Figure size 432x288 with 1 Axes>"
      ]
     },
     "metadata": {
      "needs_background": "light"
     },
     "output_type": "display_data"
    }
   ],
   "source": [
    "plt.plot(mu, q['false_lower'], \n",
    "         label='P(False lower limit)')\n",
    "plt.plot(mu, q['false_upper'], \n",
    "         label='P(False upper limit)')\n",
    "plt.plot(mu, q['false_upper'] + q['false_lower'],\n",
    "         label='Sum of above',\n",
    "         linestyle='--', c='purple', linewidth=3)\n",
    "plt.plot(mu, 1 - q['coverage'], \n",
    "         label='Total false exclusions',\n",
    "         c='r')\n",
    "plt.legend(loc='upper left', bbox_to_anchor=(1,1))\n",
    "\n",
    "plt.xlabel(\"True expected signal events\")\n",
    "plt.xlim(0, 10)\n",
    "\n",
    "plt.ylabel(\"Probability\")\n",
    "plt.ylim(0, 0.15)\n",
    "\n",
    "plt.title(f\"{q['mu_bg']} expected background events\")"
   ]
  },
  {
   "cell_type": "markdown",
   "id": "7f3b8139-924f-4e70-acbc-c7719b16bb16",
   "metadata": {},
   "source": [
    "## Example experiment with a background-free core"
   ]
  },
  {
   "cell_type": "code",
   "execution_count": 6,
   "id": "f94a10f9-c3ee-4efe-8c00-cab074246c3e",
   "metadata": {},
   "outputs": [],
   "source": [
    "f_core = 0.3"
   ]
  },
  {
   "cell_type": "code",
   "execution_count": 7,
   "id": "5e1917ba-c6e1-4625-8762-bdbf998c201c",
   "metadata": {},
   "outputs": [
    {
     "data": {
      "image/png": "[encoded data removed]",
      "text/plain": [
       "<Figure size 252x252 with 1 Axes>"
      ]
     },
     "metadata": {
      "needs_background": "light"
     },
     "output_type": "display_data"
    }
   ],
   "source": [
    "# Example experiment, shifted to periphery\n",
    "# See cylinder.ipynb notebook\n",
    "similarity = 0.25\n",
    "mu_unknown = 20\n",
    "background = common.powerlaw(mu=mu_unknown, alpha=similarity)\n",
    "scale = 1 - f_core\n",
    "background = background(loc=f_core, scale=1-f_core)\n",
    "assert background.min() == f_core\n",
    "assert background.max() == 1\n",
    "signal = hp.uniform()\n",
    "# x = np.linspace(0, 1.1, 1000)\n",
    "# signal(rate=10).plot_diff_rate(x)\n",
    "# background.plot_diff_rate(x)\n",
    "\n",
    "rs = np.linspace(0, 1, 1000)\n",
    "\n",
    "plt.figure(figsize=(3.5, 3.5))\n",
    "\n",
    "#plt.scatter(data, 0 * data, c='k', clip_on=False, s=10)\n",
    "#plt.text(0.6, 4, \"Example dataset\", c='k')\n",
    "\n",
    "# Background dist\n",
    "c = 'indigo'\n",
    "plt.fill_between(rs, 0, background.diff_rate(rs), \n",
    "                 color=c, alpha=0.3, linewidth=0)\n",
    "plt.text(0.72, 20, 'Unknown\\nBackground', c='indigo', ma='center')\n",
    "\n",
    "# Signal marker\n",
    "mu_sig = 15\n",
    "y_text = mu_sig + 2\n",
    "plt.axhline(mu_sig, linestyle='--', c='r')\n",
    "plt.text(0.05, y_text, 'Signal', c='r')\n",
    "arrow_x = 0.25\n",
    "sig_amp = 0.4\n",
    "plt.annotate(\"\", xy=(arrow_x, mu_sig * (1 - sig_amp)), \n",
    "             xytext=(arrow_x, mu_sig * (1 + sig_amp)),\n",
    "             arrowprops=dict(arrowstyle='<->', color='r'))\n",
    "\n",
    "# Core marker\n",
    "plt.axvline(f_core, c='k', linewidth=1)\n",
    "plt.text(f_core - 0.03, 58, \"Core\", ha='right', va='top')\n",
    "plt.text(f_core + .03, 58, \"Periphery\", ha='left', va='top')\n",
    "\n",
    "plt.ylabel(\"Mean events / dx\")\n",
    "plt.ylim(0, 60)\n",
    "\n",
    "plt.xlabel(\"Reconstructed position, $x = (r / r_\\mathrm{max})^2$\")\n",
    "plt.xlim(0, 1)\n",
    "\n",
    "for fmt in ('png', 'pdf'):\n",
    "    plt.savefig(f'example_experiment_core.{fmt}', dpi=200, bbox_inches='tight')"
   ]
  },
  {
   "cell_type": "markdown",
   "id": "5fddb36d-9e3e-45db-ade9-ab413d886afd",
   "metadata": {
    "tags": []
   },
   "source": [
    "## Find $\\alpha_\\text{lower}$, the false discovery probability (step 2)"
   ]
  },
  {
   "cell_type": "markdown",
   "id": "29533edb-7b18-4ac1-8220-1f5a2bd292e3",
   "metadata": {},
   "source": [
    "For a simple procedure like Feldman-Cousins counting, this is easy to compute."
   ]
  },
  {
   "cell_type": "code",
   "execution_count": 8,
   "id": "39a9bf68-dac1-4a9a-9e38-79a83089f1a8",
   "metadata": {},
   "outputs": [
    {
     "data": {
      "text/plain": [
       "Text(0.5, 0, 'Expected signal events in the full experiment')"
      ]
     },
     "execution_count": 8,
     "metadata": {},
     "output_type": "execute_result"
    },
    {
     "data": {
      "image/png": "[encoded data removed]",
      "text/plain": [
       "<Figure size 432x288 with 2 Axes>"
      ]
     },
     "metadata": {
      "needs_background": "light"
     },
     "output_type": "display_data"
    }
   ],
   "source": [
    "# P(False discovery | mu in core)\n",
    "fc_limit_info = fc_limits(mu_bg=0)  # no known background\n",
    "false_lower_core = fc_limit_info['false_lower']\n",
    "\n",
    "mu_full = hp.DEFAULT_RATE_GRID\n",
    "alpha_lower = np.interp(x=mu_full, xp=mu / f_core, fp=false_lower_core)\n",
    "# High res version for determining which hypotheses can never be excluded\n",
    "alpha_lower_hr = np.interp(x=mu, xp=mu / f_core, fp=false_lower_core)\n",
    "\n",
    "plt.plot(mu, false_lower_core, label=r'$\\alpha_\\mathrm{lower}$, i.e. false lower limit from core')\n",
    "plt.plot(mu, fc_limit_info['false_upper'], label='False upper limit from core (irrelevant)')\n",
    "plt.axhline(1 - confidence_level, c='k')\n",
    "plt.legend(loc='upper left', bbox_to_anchor=(1,1), frameon=False)\n",
    "plt.xlabel(\"Expected signal events in the core\")\n",
    "plt.ylabel(\"Probability\")\n",
    "common.log_x(0.1, 100)\n",
    "plt.ylim(0, 0.12)\n",
    "#plt.grid()\n",
    "\n",
    "plt.twiny()\n",
    "common.log_x(0.1 / f_core, 100 / f_core)\n",
    "plt.xlabel(\"Expected signal events in the full experiment\")"
   ]
  },
  {
   "cell_type": "code",
   "execution_count": 9,
   "id": "12a07a66-6a94-4db4-8696-990f60bb199e",
   "metadata": {},
   "outputs": [
    {
     "data": {
      "text/plain": [
       "(3.665932215167418, 1.0997796645502254)"
      ]
     },
     "execution_count": 9,
     "metadata": {},
     "output_type": "execute_result"
    }
   ],
   "source": [
    "# Deficit hawk cannot exclude this hypothesis, because alpha is saturated\n",
    "mu_never_exclude = mu[np.where(alpha_lower_hr > 0.099)[0][-1]]\n",
    "mu_never_exclude, mu_never_exclude * f_core"
   ]
  },
  {
   "cell_type": "markdown",
   "id": "e465103b-1799-467f-a85c-3337a5c49f5e",
   "metadata": {},
   "source": [
    "## Setup deficit hawk with modified critical value (step 3)"
   ]
  },
  {
   "cell_type": "code",
   "execution_count": 11,
   "id": "4c0b2d7e-85f9-4643-9014-5f5656b5b240",
   "metadata": {},
   "outputs": [],
   "source": [
    "signal = hp.uniform().fix_except('rate')\n",
    "stat = hp.FixedRegionSimpleHawk(\n",
    "    signal, \n",
    "    signal_only=True, \n",
    "    # Test 100 options for [0, between 0.3 and 1.0]\n",
    "    # This is a fine approximation to testing _all_ options\n",
    "    # (probably better than other approximations we make, e.g. using MC with 10k toys)\n",
    "    # but much easier to code!\n",
    "    cuts = [(0, x) for x in np.linspace(f_core, 1, 100)],\n",
    "    ).with_stored_dist(f'lr_oneside_{f_core=:.2f}')\n",
    "ul = hp.UpperLimit(stat, anchors=hp.DEFAULT_RATE_GRID.tolist())"
   ]
  },
  {
   "cell_type": "markdown",
   "id": "90ef779e-c5c8-4f73-a5a1-a37f9d9d92f7",
   "metadata": {},
   "source": [
    "Because $\\alpha_\\text{lower}$ is jagged, the critical value will also be (and there is also some wigglyness from finite toys)"
   ]
  },
  {
   "cell_type": "code",
   "execution_count": 16,
   "id": "b6282929-4eb3-49b1-a366-537a6ec73346",
   "metadata": {},
   "outputs": [
    {
     "name": "stderr",
     "output_type": "stream",
     "text": [
      " 99%|███████████████████████████████████████▋| 151/152 [00:01<00:00, 125.90it/s]\n"
     ]
    },
    {
     "data": {
      "text/plain": [
       "Text(0, 0.5, '$t$')"
      ]
     },
     "execution_count": 16,
     "metadata": {},
     "output_type": "execute_result"
    },
    {
     "data": {
      "image/png": "[encoded data removed]",
      "text/plain": [
       "<Figure size 252x252 with 2 Axes>"
      ]
     },
     "metadata": {
      "needs_background": "light"
     },
     "output_type": "display_data"
    }
   ],
   "source": [
    "alpha_upper = (1 - confidence_level) - alpha_lower\n",
    "    \n",
    "orig_critical_t = stat.dist(quantiles=1 - confidence_level).ppf(rate=mu_full)\n",
    "\n",
    "critical_t = np.array([\n",
    "    stat.dist(quantiles=alpha).ppf(rate=mu)\n",
    "    for alpha, mu in zip(alpha_upper, tqdm(mu_full))],\n",
    ")\n",
    "\n",
    "\n",
    "\n",
    "f, axes = plt.subplots(\n",
    "    2, 1, \n",
    "    figsize=(3.5, 3.5), \n",
    "    sharex=True, \n",
    "    gridspec_kw=dict(height_ratios=[1,6]))\n",
    "\n",
    "ax = axes[0]\n",
    "plt.sca(ax)\n",
    "common.log_x(0.1, 100)\n",
    "\n",
    "plt.plot(mu,\n",
    "         alpha_lower_hr, \n",
    "         c='C0', linewidth=1)\n",
    "plt.text(0.65, 0.06, r\"$\\alpha_\\mathrm{lower}$\", \n",
    "         c='C0',\n",
    "         ha='center', va='center')\n",
    "plt.axhline(0.1, linewidth=1, c='k', linestyle='--')\n",
    "\n",
    "plt.ylim(0, 0.11)\n",
    "plt.yticks([0, .05, .1])\n",
    "ax.yaxis.set_major_formatter(matplotlib.ticker.FormatStrFormatter('%g'))\n",
    "ax.yaxis.tick_right()\n",
    "\n",
    "ax = axes[1]\n",
    "plt.sca(ax)\n",
    "\n",
    "for alpha in [0.01, 0.05, 0.1]:\n",
    "    y = stat.dist(quantiles=alpha).ppf(rate=mu_full)\n",
    "    plt.plot(mu_full, \n",
    "             stat.dist(quantiles=alpha).ppf(rate=mu_full), \n",
    "             label=f'$Q_{{{alpha:.2f}}}$',\n",
    "             linewidth=1)\n",
    "\n",
    "\n",
    "plt.plot(mu_full, \n",
    "         critical_t,\n",
    "         label=r'$Q_{\\alpha_\\mathrm{upper}}$',\n",
    "         c='k')\n",
    "\n",
    "plt.axvline(\n",
    "    mu_never_exclude, \n",
    "    c='k', linestyle='--', linewidth=1,\n",
    "    label='Lowest possible exclusion')\n",
    "\n",
    "plt.legend(loc='upper left', bbox_to_anchor=(1,1), frameon=False)\n",
    "    \n",
    "plt.xlabel(\"Mu signal in full experiment\")\n",
    "plt.ylabel(\"$t$\")"
   ]
  },
  {
   "cell_type": "markdown",
   "id": "bf9a30ce-7ffc-4657-b1c4-988ab3e38fa4",
   "metadata": {},
   "source": [
    "Make the deficit hawk use this modified critical value. My apologies for this ugly hack. Hypney should allow this in a simpler way..."
   ]
  },
  {
   "cell_type": "code",
   "execution_count": 17,
   "id": "b1184afe-d202-40b2-a57d-976c7eaabb21",
   "metadata": {},
   "outputs": [],
   "source": [
    "ul = hp.UpperLimit(stat, anchors=mu_full.tolist())\n",
    "ul_orig = hp.UpperLimit(stat, anchors=mu_full.tolist())\n",
    "\n",
    "def modified_ppf(*, params):\n",
    "    return np.interp(x=params['rate'], xp=mu_full, fp=critical_t)\n",
    "    \n",
    "ul._ppf_pre_fudge = modified_ppf\n",
    "ul.crit_at_anchors = critical_t"
   ]
  },
  {
   "cell_type": "markdown",
   "id": "9a43b8ed-5108-4745-a693-1872afcc375f",
   "metadata": {},
   "source": [
    "Test with some example data"
   ]
  },
  {
   "cell_type": "code",
   "execution_count": 18,
   "id": "b0625bd2-6660-4628-9b0f-817a5397efdc",
   "metadata": {},
   "outputs": [
    {
     "data": {
      "text/plain": [
       "(9.100000000412683, 8.660329212137496)"
      ]
     },
     "execution_count": 18,
     "metadata": {},
     "output_type": "execute_result"
    }
   ],
   "source": [
    "# Just some example dataset\n",
    "data = np.array([0., 0.5, 0.7])\n",
    "# Limit with modified PPF, limit with original PPF (if you do only deficit hawk)\n",
    "ul(data=data), ul_orig(data=data)"
   ]
  },
  {
   "cell_type": "markdown",
   "id": "b25068a9-5da6-440e-83c6-d74126871ecc",
   "metadata": {},
   "source": [
    "## Combined procedure"
   ]
  },
  {
   "cell_type": "code",
   "execution_count": 19,
   "id": "c6ba5cda-8d02-4260-bd4b-207865384939",
   "metadata": {},
   "outputs": [
    {
     "data": {
      "text/plain": [
       "(0.3510168739245596, 9.100000000412683, 14.532294376943094)"
      ]
     },
     "execution_count": 19,
     "metadata": {},
     "output_type": "execute_result"
    }
   ],
   "source": [
    "def combined_procedure(data):\n",
    "    n_core = np.sum(data < f_core).astype(int)\n",
    "    lower = fc_limit_info['lower'][n_core] / f_core\n",
    "    upper = max(mu_never_exclude, ul(data))\n",
    "    upper_coreonly = fc_limit_info['upper'][n_core] / f_core\n",
    "    return (lower, upper, upper_coreonly)\n",
    "\n",
    "# Test on some example data again\n",
    "combined_procedure(data)"
   ]
  },
  {
   "cell_type": "markdown",
   "id": "88dd3869-318f-4d3c-b6e3-56335f9f8ce7",
   "metadata": {},
   "source": [
    "A (crazy) example that gives an empty interval (lower limit > upper limit)"
   ]
  },
  {
   "cell_type": "code",
   "execution_count": 20,
   "id": "a89d914f-3661-47f1-8567-2fd33037f8ce",
   "metadata": {},
   "outputs": [
    {
     "data": {
      "text/plain": [
       "(24.74169198064821, 23.309678320908155, 66.87246022613667)"
      ]
     },
     "execution_count": 20,
     "metadata": {},
     "output_type": "execute_result"
    }
   ],
   "source": [
    "combined_procedure(np.ones(13) * 0.1)"
   ]
  },
  {
   "cell_type": "markdown",
   "id": "e155989b-5353-4805-8a4e-ba57d148f78e",
   "metadata": {},
   "source": [
    "Find mean upper/lower limits with MC"
   ]
  },
  {
   "cell_type": "code",
   "execution_count": 21,
   "id": "5af1e2d6-6067-4b94-ab49-4b72fc792ed5",
   "metadata": {},
   "outputs": [],
   "source": [
    "mu_sigs = mu_full[mu_full < 30]\n",
    "n_trials = 10_000\n",
    "\n",
    "def draw_results(mu_sig):\n",
    "    return np.asarray([\n",
    "        combined_procedure(\n",
    "            (background + signal(rate=mu_sig)).simulate())\n",
    "        for _ in range(n_trials)])\n",
    "\n",
    "cache_fn = Path(f'discovery_{f_core=:0.3f}_{n_trials=:07d}_{mu_unknown=:0.2f}.pkl')\n",
    "if cache_fn.exists():\n",
    "    # Load results from cache\n",
    "    with open(cache_fn, mode='rb') as f:\n",
    "        results = pickle.load(f)\n",
    "else:\n",
    "    # Do computation\n",
    "    with ProcessPoolExecutor(max_workers=7) as exc:\n",
    "        results = np.stack(list(tqdm(\n",
    "            exc.map(draw_results, mu_sigs), \n",
    "            total=len(mu_sigs))))\n",
    "    \n",
    "    # Dump results to cache\n",
    "    with open(cache_fn, mode='wb') as f:\n",
    "        pickle.dump(results, f)"
   ]
  },
  {
   "cell_type": "code",
   "execution_count": 22,
   "id": "19e223da-1fe6-45ed-ba4d-bba7ac72c024",
   "metadata": {},
   "outputs": [],
   "source": [
    "result_types = ['lower', 'upper', 'upper_core']\n",
    "\n",
    "quantiles = {\n",
    "    result_name: {\n",
    "        n_sigma: np.quantile(results[...,i], stats.norm.cdf(n_sigma), axis=1)\n",
    "        for n_sigma in [-2, -1, 0, 1, 2]}\n",
    "    for i, result_name in enumerate(result_types)\n",
    "}\n",
    "means = {\n",
    "    result_name: np.mean(results[...,i], axis=1)\n",
    "    for i, result_name in enumerate(result_types)\n",
    "}\n",
    "p_empty = np.mean(results[...,0] >= results[...,1], axis=1)\n",
    "p_worse = np.mean(results[...,1] >= results[...,2], axis=1)\n",
    "p_clipped = np.mean(results[...,1] == mu_never_exclude, axis=1)"
   ]
  },
  {
   "cell_type": "markdown",
   "id": "81f674bc-19df-41e0-bf08-143208917a8e",
   "metadata": {},
   "source": [
    "Probability of 'peculiar features'. (1) and (3) should be nearly impossible, and (2) should be really rare at 0 signal."
   ]
  },
  {
   "cell_type": "code",
   "execution_count": 23,
   "id": "47617ca8-db0d-45d6-85bf-5c26112552e4",
   "metadata": {},
   "outputs": [
    {
     "data": {
      "text/plain": [
       "Text(0, 0.5, 'Probability')"
      ]
     },
     "execution_count": 23,
     "metadata": {},
     "output_type": "execute_result"
    },
    {
     "data": {
      "image/png": "[encoded data removed]",
      "text/plain": [
       "<Figure size 432x288 with 1 Axes>"
      ]
     },
     "metadata": {
      "needs_background": "light"
     },
     "output_type": "display_data"
    }
   ],
   "source": [
    "plt.plot(mu_sigs, p_empty, label='1: empty interval')\n",
    "plt.plot(mu_sigs, p_worse, label='2: core stronger than hawk')\n",
    "plt.plot(mu_sigs, p_clipped, label=\"3: hawk limit clipped\")\n",
    "plt.legend(loc='lower right', frameon=False)\n",
    "common.log_y(.0005, 1)\n",
    "common.log_x(0.1, 30)\n",
    "plt.xlabel(\"True expected signal (full experiment)\")\n",
    "plt.ylabel(\"Probability\")"
   ]
  },
  {
   "cell_type": "code",
   "execution_count": 27,
   "id": "b6706d73-33e6-4ee0-a269-0a0df6e1e691",
   "metadata": {},
   "outputs": [
    {
     "data": {
      "text/plain": [
       "(0.2495, 29.3)"
      ]
     },
     "execution_count": 27,
     "metadata": {},
     "output_type": "execute_result"
    }
   ],
   "source": [
    "p_worse[-1], mu_sigs[-1]"
   ]
  },
  {
   "cell_type": "code",
   "execution_count": 24,
   "id": "ac8bc1f9-ddaf-4fab-b13f-c46b6eacf693",
   "metadata": {},
   "outputs": [
    {
     "data": {
      "image/png": "[encoded data removed]",
      "text/plain": [
       "<Figure size 252x302.4 with 2 Axes>"
      ]
     },
     "metadata": {
      "needs_background": "light"
     },
     "output_type": "display_data"
    }
   ],
   "source": [
    "xlim = (mu_sigs[0], mu_sigs[-1])\n",
    "\n",
    "f, axes = plt.subplots(\n",
    "    2, 1, \n",
    "    figsize=(3.5, 4.2), \n",
    "    sharex=True, \n",
    "    gridspec_kw=dict(height_ratios=[1,6]))\n",
    "\n",
    "ax = axes[0]\n",
    "plt.sca(ax)\n",
    "plt.plot(mu,\n",
    "         alpha_lower_hr, \n",
    "         c='C0', linewidth=1)\n",
    "plt.text(0.65, 0.06, r\"$\\alpha_\\mathrm{lower}$\", \n",
    "         c='C0',\n",
    "         ha='center', va='center')\n",
    "plt.axhline(0.1, linewidth=1, c='k', linestyle='--')\n",
    "plt.ylim(0, 0.11)\n",
    "plt.yticks([0, .05, .1])\n",
    "ax.yaxis.set_major_formatter(matplotlib.ticker.FormatStrFormatter('%g'))\n",
    "ax.yaxis.tick_right()\n",
    "\n",
    "plt.sca(axes[1])\n",
    "\n",
    "colors = dict(lower='C0', upper='C1', upper_core='C2')\n",
    "labels = dict(lower='Lower limit', upper='Upper limit,\\ncombined procedure', upper_core='Upper limit,\\ncore only')\n",
    "\n",
    "for qname, q in quantiles.items():\n",
    "    plt.fill_between(\n",
    "        mu_sigs, q[-1], q[+1], \n",
    "        alpha=0.05, linewidth=0,\n",
    "        step='mid',\n",
    "        color=colors[qname])\n",
    "    plt.plot(\n",
    "        mu_sigs,\n",
    "        means[qname],\n",
    "        color=colors[qname], \n",
    "        linewidth=1,\n",
    "        drawstyle='steps-mid',\n",
    "        label=labels[qname]\n",
    "    )\n",
    "    \n",
    "plt.plot([0.1, 30], [0.1, 30], c='k', linewidth=0.1, linestyle='-')\n",
    "    \n",
    "label_locs = dict(\n",
    "    lower=(10, 0.8),\n",
    "    upper=(0.5, 2.9),\n",
    "    upper_core=(0.3, 15))\n",
    "\n",
    "for qname, (x, y) in label_locs.items():\n",
    "    plt.text(x, y, labels[qname], color=colors[qname], ha='center', va='center')\n",
    "\n",
    "common.log_x(*xlim)\n",
    "common.log_y(0.5, 30)\n",
    "\n",
    "plt.xlabel(\"True expected signal events (in full data)\")\n",
    "plt.ylabel(\"Claimed signal (in full data)\")\n",
    "\n",
    "plt.subplots_adjust(hspace=0.07)\n",
    "\n",
    "for fmt in 'png', 'pdf':\n",
    "    plt.savefig(f'discovery_study.{fmt}', dpi=300, bbox_inches='tight')"
   ]
  },
  {
   "cell_type": "code",
   "execution_count": null,
   "id": "98d69311-4c0a-456c-b3f7-73217017fbbe",
   "metadata": {},
   "outputs": [],
   "source": []
  }
 ],
 "metadata": {
  "kernelspec": {
   "display_name": "Python 3 (ipykernel)",
   "language": "python",
   "name": "python3"
  },
  "language_info": {
   "codemirror_mode": {
    "name": "ipython",
    "version": 3
   },
   "file_extension": ".py",
   "mimetype": "text/x-python",
   "name": "python",
   "nbconvert_exporter": "python",
   "pygments_lexer": "ipython3",
   "version": "3.9.13"
  }
 },
 "nbformat": 4,
 "nbformat_minor": 5
}
